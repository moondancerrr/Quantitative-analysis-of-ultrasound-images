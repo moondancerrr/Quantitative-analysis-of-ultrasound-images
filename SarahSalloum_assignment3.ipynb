{
 "cells": [
  {
   "cell_type": "code",
   "execution_count": 1,
   "metadata": {},
   "outputs": [
    {
     "data": {
      "text/plain": [
       "<Figure size 432x288 with 0 Axes>"
      ]
     },
     "metadata": {},
     "output_type": "display_data"
    }
   ],
   "source": [
    "import SimpleITK as sitk\n",
    "import numpy as np\n",
    "import matplotlib.pyplot as plt\n",
    "plt.gray()\n",
    "from ipywidgets import interact, fixed\n",
    "external_viewer = sitk.ImageViewer()\n",
    "slicer_app_location = \"C:/Users/User/AppData/Local/NA-MIC/Slicer 5.0.3/Slicer.exe\"\n",
    "external_viewer.SetApplication(slicer_app_location)\n",
    "%config Completer.use_jedi = False"
   ]
  },
  {
   "cell_type": "markdown",
   "metadata": {},
   "source": [
    "Part 1) Meta data embedding\n",
    "\n",
    "a-"
   ]
  },
  {
   "cell_type": "code",
   "execution_count": 3,
   "metadata": {},
   "outputs": [],
   "source": [
    "# read the data\n",
    "img = sitk.ReadImage('C:\\\\Users\\\\User\\\\Documents\\\\masters-queens\\\\BMIF804\\\\assignment3\\\\new_prostate.tif')"
   ]
  },
  {
   "cell_type": "code",
   "execution_count": 4,
   "metadata": {},
   "outputs": [],
   "source": [
    "# view image in external viewer\n",
    "external_viewer.Execute(img)"
   ]
  },
  {
   "cell_type": "markdown",
   "metadata": {},
   "source": [
    "image.png"
   ]
  },
  {
   "cell_type": "markdown",
   "metadata": {},
   "source": [
    "b-"
   ]
  },
  {
   "cell_type": "code",
   "execution_count": 6,
   "metadata": {},
   "outputs": [
    {
     "name": "stdout",
     "output_type": "stream",
     "text": [
      "          data_name  axial (mm)  lateral (mm)  grade     organ    modality\n",
      "0  PCC-0312_LAL_GS7          28         46.08      7  prostate  ultrasound\n"
     ]
    }
   ],
   "source": [
    "import pandas as pd\n",
    "\n",
    "df = pd.read_csv('C:\\\\Users\\\\User\\\\Documents\\\\masters-queens\\\\BMIF804\\\\assignment3\\\\meta_data.csv')\n",
    "print(df)"
   ]
  },
  {
   "cell_type": "markdown",
   "metadata": {},
   "source": [
    "c-\n",
    "\n",
    "The “axial” dimension - along the vertical axis - 28 mm.\n",
    "“lateral” dimension - along the horizontal axis - 46.08 mm.\n"
   ]
  },
  {
   "cell_type": "markdown",
   "metadata": {},
   "source": [
    "The lateral is almost twice as much spaced as the axial, which means that the image is elongated on the y axis (vertically)"
   ]
  },
  {
   "cell_type": "code",
   "execution_count": 7,
   "metadata": {},
   "outputs": [
    {
     "name": "stdout",
     "output_type": "stream",
     "text": [
      "size:  (512, 10048)\n",
      "origin:  (0.0, 0.0)\n",
      "spacing:  (1.0, 1.0)\n",
      "direction:  (1.0, 0.0, 0.0, 1.0)\n",
      "pixel type:  8-bit unsigned integer\n",
      "number of pixel components: 1\n"
     ]
    }
   ],
   "source": [
    "# get image meta data\n",
    "print('size: ',img.GetSize())\n",
    "print('origin: ',img.GetOrigin())\n",
    "print('spacing: ',img.GetSpacing())\n",
    "print('direction: ',img.GetDirection())\n",
    "print('pixel type: ',img.GetPixelIDTypeAsString())\n",
    "print('number of pixel components:',img.GetNumberOfComponentsPerPixel())"
   ]
  },
  {
   "cell_type": "code",
   "execution_count": 13,
   "metadata": {},
   "outputs": [
    {
     "name": "stdout",
     "output_type": "stream",
     "text": [
      "0.09\n",
      "0.002786624203821656\n"
     ]
    }
   ],
   "source": [
    "#calculate spacing, spacing is equal to physical_extent/size \n",
    "\n",
    "spacing_x = 46.08/512\n",
    "spacing_y = 28/10048\n",
    "\n",
    "print(spacing_x)\n",
    "print(spacing_y)"
   ]
  },
  {
   "cell_type": "markdown",
   "metadata": {},
   "source": [
    "1-d)    screenshot new US\n",
    "\n",
    "compare to that of part 1a)"
   ]
  },
  {
   "cell_type": "markdown",
   "metadata": {},
   "source": [
    "same process for segment pic and correct metadata and screeenshot and compare"
   ]
  },
  {
   "cell_type": "markdown",
   "metadata": {},
   "source": [
    "Part 2) Image enhancement"
   ]
  },
  {
   "cell_type": "markdown",
   "metadata": {},
   "source": [
    "a-"
   ]
  },
  {
   "cell_type": "code",
   "execution_count": null,
   "metadata": {},
   "outputs": [],
   "source": [
    "#Smooth prostate_ultrasound using Median filtering in SimpleITK\n",
    "\n",
    "#Explore and visualize the result of using different kernel sizes to check its effect qualitatively. \n",
    "# The goal is to decrease the noise in the prostate image without losing important anatomical information (e.g., boundary of the prostate)."
   ]
  },
  {
   "cell_type": "markdown",
   "metadata": {},
   "source": [
    "\n",
    "b-"
   ]
  },
  {
   "cell_type": "code",
   "execution_count": null,
   "metadata": {},
   "outputs": [],
   "source": [
    "#Plot the histogram of the smoothed image\n",
    "\n",
    "#Improve the contrast of the image by histogram equalization in SimpleITK using AdaptiveHistogramEqualizationImageFilter\n",
    "\n",
    "#Explore different parameters and visualize the resultant image as well as its histogram. Choose the one that is qualitatively more appealing."
   ]
  }
 ],
 "metadata": {
  "kernelspec": {
   "display_name": "Python 3.10.0 64-bit",
   "language": "python",
   "name": "python3"
  },
  "language_info": {
   "codemirror_mode": {
    "name": "ipython",
    "version": 3
   },
   "file_extension": ".py",
   "mimetype": "text/x-python",
   "name": "python",
   "nbconvert_exporter": "python",
   "pygments_lexer": "ipython3",
   "version": "3.10.0"
  },
  "orig_nbformat": 4,
  "vscode": {
   "interpreter": {
    "hash": "afb734500600fd355917ca529030176ea0ca205570884b88f2f6f7d791fd3fbe"
   }
  }
 },
 "nbformat": 4,
 "nbformat_minor": 2
}
