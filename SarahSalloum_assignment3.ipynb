{
 "cells": [
  {
   "cell_type": "code",
   "execution_count": 70,
   "metadata": {},
   "outputs": [
    {
     "data": {
      "text/plain": [
       "<Figure size 432x288 with 0 Axes>"
      ]
     },
     "metadata": {},
     "output_type": "display_data"
    }
   ],
   "source": [
    "import SimpleITK as sitk\n",
    "import numpy as np\n",
    "import matplotlib.pyplot as plt\n",
    "plt.gray()\n",
    "from ipywidgets import interact, fixed\n",
    "external_viewer = sitk.ImageViewer()\n",
    "slicer_app_location = \"C:/Users/User/AppData/Local/NA-MIC/Slicer 5.0.3/Slicer.exe\"\n",
    "external_viewer.SetApplication(slicer_app_location)\n",
    "%config Completer.use_jedi = False"
   ]
  },
  {
   "cell_type": "markdown",
   "metadata": {},
   "source": [
    "Part 1) Meta data embedding\n",
    "\n",
    "a-"
   ]
  },
  {
   "cell_type": "code",
   "execution_count": 71,
   "metadata": {},
   "outputs": [],
   "source": [
    "# read the data\n",
    "img = sitk.ReadImage('C:\\\\Users\\\\User\\\\Documents\\\\masters-queens\\\\BMIF804\\\\assignment3\\\\new_prostate.tif')"
   ]
  },
  {
   "cell_type": "code",
   "execution_count": 4,
   "metadata": {},
   "outputs": [],
   "source": [
    "# view image in external viewer\n",
    "external_viewer.Execute(img)"
   ]
  },
  {
   "cell_type": "markdown",
   "metadata": {},
   "source": [
    "image.png"
   ]
  },
  {
   "cell_type": "markdown",
   "metadata": {},
   "source": [
    "b-"
   ]
  },
  {
   "cell_type": "code",
   "execution_count": 72,
   "metadata": {},
   "outputs": [
    {
     "name": "stdout",
     "output_type": "stream",
     "text": [
      "          data_name  axial (mm)  lateral (mm)  grade     organ    modality\n",
      "0  PCC-0312_LAL_GS7          28         46.08      7  prostate  ultrasound\n"
     ]
    }
   ],
   "source": [
    "import pandas as pd\n",
    "\n",
    "df = pd.read_csv('C:\\\\Users\\\\User\\\\Documents\\\\masters-queens\\\\BMIF804\\\\assignment3\\\\meta_data.csv')\n",
    "print(df)"
   ]
  },
  {
   "cell_type": "markdown",
   "metadata": {},
   "source": [
    "c-\n",
    "\n",
    "The “axial” dimension - along the vertical axis - 28 mm.\n",
    "“lateral” dimension - along the horizontal axis - 46.08 mm.\n"
   ]
  },
  {
   "cell_type": "markdown",
   "metadata": {},
   "source": [
    "The lateral must be spaced more than the axial in order to be visible properly. So the ratio indicate the resolution. \n"
   ]
  },
  {
   "cell_type": "code",
   "execution_count": 6,
   "metadata": {},
   "outputs": [
    {
     "name": "stdout",
     "output_type": "stream",
     "text": [
      "size:  (512, 10048)\n",
      "origin:  (0.0, 0.0)\n",
      "spacing:  (1.0, 1.0)\n",
      "direction:  (1.0, 0.0, 0.0, 1.0)\n",
      "pixel type:  8-bit unsigned integer\n",
      "number of pixel components: 1\n"
     ]
    }
   ],
   "source": [
    "# get image meta data\n",
    "print('size: ',img.GetSize())\n",
    "print('origin: ',img.GetOrigin())\n",
    "print('spacing: ',img.GetSpacing())\n",
    "print('direction: ',img.GetDirection())\n",
    "print('pixel type: ',img.GetPixelIDTypeAsString())\n",
    "print('number of pixel components:',img.GetNumberOfComponentsPerPixel())"
   ]
  },
  {
   "cell_type": "code",
   "execution_count": 73,
   "metadata": {},
   "outputs": [
    {
     "name": "stdout",
     "output_type": "stream",
     "text": [
      "0.09\n",
      "0.002786624203821656\n"
     ]
    }
   ],
   "source": [
    "#calculate spacing, spacing is equal to physical_extent/size \n",
    "\n",
    "spacing_x = 46.08/512\n",
    "spacing_y = 28/10048\n",
    "\n",
    "print(spacing_x)\n",
    "print(spacing_y)"
   ]
  },
  {
   "cell_type": "code",
   "execution_count": 74,
   "metadata": {},
   "outputs": [],
   "source": [
    "img.SetSpacing([0.0028, 0.09])"
   ]
  },
  {
   "cell_type": "markdown",
   "metadata": {},
   "source": [
    "1-d)"
   ]
  },
  {
   "cell_type": "code",
   "execution_count": 75,
   "metadata": {},
   "outputs": [],
   "source": [
    "#save image\n",
    "\n",
    "sitk.WriteImage(img, 'C:\\\\Users\\\\User\\\\Documents\\\\masters-queens\\\\BMIF804\\\\assignment3\\\\prostate_segment.tif')"
   ]
  },
  {
   "cell_type": "code",
   "execution_count": null,
   "metadata": {},
   "outputs": [],
   "source": [
    "\n",
    "# view image in external viewer\n",
    "external_viewer.Execute(img)"
   ]
  },
  {
   "cell_type": "markdown",
   "metadata": {},
   "source": [
    "image.png"
   ]
  },
  {
   "cell_type": "markdown",
   "metadata": {},
   "source": [
    "The pixels are well spaced in this picture so that it is almost square and visually clear as opposed to part 1 a where the picture was shrinked in width and long in height"
   ]
  },
  {
   "cell_type": "markdown",
   "metadata": {},
   "source": [
    "1-e) "
   ]
  },
  {
   "cell_type": "code",
   "execution_count": 76,
   "metadata": {},
   "outputs": [],
   "source": [
    "# read the data\n",
    "img_new_segment = sitk.ReadImage('C:\\\\Users\\\\User\\\\Documents\\\\masters-queens\\\\BMIF804\\\\assignment3\\\\new_segemnt.tif')"
   ]
  },
  {
   "cell_type": "code",
   "execution_count": null,
   "metadata": {},
   "outputs": [],
   "source": [
    "# view image in external viewer\n",
    "external_viewer.Execute(img_new_segment)"
   ]
  },
  {
   "cell_type": "markdown",
   "metadata": {},
   "source": [
    "image.png"
   ]
  },
  {
   "cell_type": "code",
   "execution_count": 77,
   "metadata": {},
   "outputs": [
    {
     "name": "stdout",
     "output_type": "stream",
     "text": [
      "size:  (512, 10048)\n",
      "origin:  (0.0, 0.0)\n",
      "spacing:  (1.0, 1.0)\n",
      "direction:  (1.0, 0.0, 0.0, 1.0)\n",
      "pixel type:  8-bit unsigned integer\n",
      "number of pixel components: 1\n"
     ]
    }
   ],
   "source": [
    "# get image meta data\n",
    "print('size: ',img_new_segment.GetSize())\n",
    "print('origin: ',img_new_segment.GetOrigin())\n",
    "print('spacing: ',img_new_segment.GetSpacing())\n",
    "print('direction: ',img_new_segment.GetDirection())\n",
    "print('pixel type: ',img_new_segment.GetPixelIDTypeAsString())\n",
    "print('number of pixel components:',img_new_segment.GetNumberOfComponentsPerPixel())"
   ]
  },
  {
   "cell_type": "code",
   "execution_count": 78,
   "metadata": {},
   "outputs": [],
   "source": [
    "img_new_segment.SetSpacing([0.0028, 0.09])"
   ]
  },
  {
   "cell_type": "code",
   "execution_count": 79,
   "metadata": {},
   "outputs": [],
   "source": [
    "#save image\n",
    "\n",
    "sitk.WriteImage(img_new_segment, 'C:\\\\Users\\\\User\\\\Documents\\\\masters-queens\\\\BMIF804\\\\assignment3\\\\new_segment.tif')"
   ]
  },
  {
   "cell_type": "code",
   "execution_count": 80,
   "metadata": {},
   "outputs": [],
   "source": [
    "# view image in external viewer\n",
    "external_viewer.Execute(img_new_segment)"
   ]
  },
  {
   "cell_type": "markdown",
   "metadata": {},
   "source": [
    "image.png"
   ]
  },
  {
   "cell_type": "markdown",
   "metadata": {},
   "source": [
    "as compared to last image, this looks visually better as the pixels are spaced correctly in accord with the physical extent "
   ]
  },
  {
   "cell_type": "markdown",
   "metadata": {},
   "source": [
    "Part 2) Image enhancement"
   ]
  },
  {
   "cell_type": "markdown",
   "metadata": {},
   "source": [
    "a-"
   ]
  },
  {
   "cell_type": "code",
   "execution_count": 81,
   "metadata": {},
   "outputs": [
    {
     "data": {
      "image/png": "[encoded data removed]",
      "text/plain": [
       "<Figure size 1800x360 with 2 Axes>"
      ]
     },
     "metadata": {
      "needs_background": "light"
     },
     "output_type": "display_data"
    }
   ],
   "source": [
    "# read the data\n",
    "img = sitk.ReadImage('C:\\\\Users\\\\User\\\\Documents\\\\masters-queens\\\\BMIF804\\\\assignment3\\\\prostate_segment.tif')\n",
    "img.SetSpacing([0.0028, 0.09])\n",
    "#Smooth prostate_ultrasound using Median filtering in SimpleITK\n",
    "# median filter\n",
    "median_filter = sitk.MedianImageFilter()\n",
    "\n",
    "#Explore and visualize the result of using different kernel sizes to check its effect qualitatively. \n",
    "\n",
    "median_filter.SetRadius(2) ## kernel radius #\n",
    "\n",
    "# The goal is to decrease the noise in the prostate image without losing important anatomical information (e.g., boundary of the prostate).\n",
    "\n",
    "img_denoised = median_filter.Execute(img)\n",
    "\n",
    "# visualize\n",
    "plt.figure(figsize=(25,5))\n",
    "plt.subplot(1,3,1)\n",
    "plt.imshow(sitk.GetArrayFromImage(img[:,:]), vmin=0, vmax=255)\n",
    "plt.axis('off')\n",
    "plt.title('noisy image')\n",
    "plt.subplot(1,3,2)\n",
    "plt.imshow(sitk.GetArrayFromImage(img_denoised[:,:]), vmin=0, vmax=255) \n",
    "plt.axis('off')\n",
    "plt.title('Median denoised image')\n",
    "plt.show()"
   ]
  },
  {
   "cell_type": "markdown",
   "metadata": {},
   "source": [
    "\n",
    "b-"
   ]
  },
  {
   "cell_type": "code",
   "execution_count": 82,
   "metadata": {},
   "outputs": [
    {
     "data": {
      "text/plain": [
       "(array([1.100000e+02, 3.523900e+04, 4.512800e+05, 8.237760e+05,\n",
       "        1.286696e+06, 1.286886e+06, 8.561140e+05, 3.523160e+05,\n",
       "        5.014000e+04, 2.019000e+03]),\n",
       " array([ 39. ,  60.4,  81.8, 103.2, 124.6, 146. , 167.4, 188.8, 210.2,\n",
       "        231.6, 253. ]),\n",
       " <BarContainer object of 10 artists>)"
      ]
     },
     "execution_count": 82,
     "metadata": {},
     "output_type": "execute_result"
    },
    {
     "data": {
      "image/png": "[encoded data removed]",
      "text/plain": [
       "<Figure size 432x288 with 1 Axes>"
      ]
     },
     "metadata": {
      "needs_background": "light"
     },
     "output_type": "display_data"
    }
   ],
   "source": [
    "#Plot the histogram of the smoothed image\n",
    "img_denoised_array = sitk.GetArrayFromImage(img_denoised)\n",
    "plt.hist(img_denoised_array.flatten())\n"
   ]
  },
  {
   "cell_type": "code",
   "execution_count": 83,
   "metadata": {},
   "outputs": [
    {
     "data": {
      "image/png": "[encoded data removed]",
      "text/plain": [
       "<Figure size 432x288 with 1 Axes>"
      ]
     },
     "metadata": {
      "needs_background": "light"
     },
     "output_type": "display_data"
    },
    {
     "data": {
      "image/png": "[encoded data removed]",
      "text/plain": [
       "<Figure size 1080x360 with 2 Axes>"
      ]
     },
     "metadata": {
      "needs_background": "light"
     },
     "output_type": "display_data"
    }
   ],
   "source": [
    "#Improve the contrast of the image by histogram equalization in SimpleITK using AdaptiveHistogramEqualizationImageFilter\n",
    "histogram_equalization = sitk.AdaptiveHistogramEqualizationImageFilter()\n",
    "\n",
    "#Explore different parameters and visualize the resultant image as well as its histogram. Choose the one that is qualitatively \n",
    "# more appealing.\n",
    "\n",
    "#first trial\n",
    "\n",
    "histogram_equalization.SetAlpha(1)\n",
    "histogram_equalization.SetBeta(1)\n",
    "histogram_equalization.SetRadius(5)\n",
    "\n",
    "img_filtered = histogram_equalization.Execute(img_denoised)\n",
    "img_filtered_array = sitk.GetArrayFromImage(img_filtered)\n",
    "plt.hist(img_filtered_array.flatten())\n",
    "\n",
    "plt.figure(figsize=(15,5))\n",
    "plt.subplot(1,3,1)\n",
    "plt.imshow(sitk.GetArrayFromImage(img_filtered[:,:]), vmin=0, vmax=255)\n",
    "plt.axis('off')\n",
    "plt.title('filtered image')\n",
    "plt.subplot(1,3,2)\n",
    "plt.imshow(sitk.GetArrayFromImage(img_denoised[:,:]), vmin=0, vmax=255) \n",
    "plt.axis('off')\n",
    "plt.title('denoised image')\n",
    "plt.show()"
   ]
  },
  {
   "cell_type": "code",
   "execution_count": 84,
   "metadata": {},
   "outputs": [
    {
     "data": {
      "image/png": "[encoded data removed]",
      "text/plain": [
       "<Figure size 432x288 with 1 Axes>"
      ]
     },
     "metadata": {
      "needs_background": "light"
     },
     "output_type": "display_data"
    },
    {
     "data": {
      "image/png": "[encoded data removed]",
      "text/plain": [
       "<Figure size 1080x360 with 2 Axes>"
      ]
     },
     "metadata": {
      "needs_background": "light"
     },
     "output_type": "display_data"
    }
   ],
   "source": [
    "#Improve the contrast of the image by histogram equalization in SimpleITK using AdaptiveHistogramEqualizationImageFilter\n",
    "histogram_equalization = sitk.AdaptiveHistogramEqualizationImageFilter()\n",
    "\n",
    "#Explore different parameters and visualize the resultant image as well as its histogram. Choose the one that is qualitatively \n",
    "# more appealing.\n",
    "\n",
    "#second trial\n",
    "\n",
    "histogram_equalization.SetAlpha(0)\n",
    "histogram_equalization.SetBeta(1)\n",
    "histogram_equalization.SetRadius(5)\n",
    "\n",
    "img_filtered = histogram_equalization.Execute(img_denoised)\n",
    "img_filtered_array = sitk.GetArrayFromImage(img_filtered)\n",
    "plt.hist(img_filtered_array.flatten())\n",
    "\n",
    "plt.figure(figsize=(15,5))\n",
    "plt.subplot(1,3,1)\n",
    "plt.imshow(sitk.GetArrayFromImage(img_filtered[:,:]), vmin=0, vmax=255)\n",
    "plt.axis('off')\n",
    "plt.title('filtered image')\n",
    "plt.subplot(1,3,2)\n",
    "plt.imshow(sitk.GetArrayFromImage(img_denoised[:,:]), vmin=0, vmax=255) \n",
    "plt.axis('off')\n",
    "plt.title('denoised image')\n",
    "plt.show()"
   ]
  },
  {
   "cell_type": "markdown",
   "metadata": {},
   "source": [
    "image.png"
   ]
  },
  {
   "cell_type": "code",
   "execution_count": 85,
   "metadata": {},
   "outputs": [
    {
     "data": {
      "image/png": "[encoded data removed]",
      "text/plain": [
       "<Figure size 432x288 with 1 Axes>"
      ]
     },
     "metadata": {
      "needs_background": "light"
     },
     "output_type": "display_data"
    },
    {
     "data": {
      "image/png": "[encoded data removed]",
      "text/plain": [
       "<Figure size 1080x360 with 2 Axes>"
      ]
     },
     "metadata": {
      "needs_background": "light"
     },
     "output_type": "display_data"
    }
   ],
   "source": [
    "#third trial\n",
    "histogram_equalization.SetAlpha(0)\n",
    "histogram_equalization.SetBeta(1)\n",
    "histogram_equalization.SetRadius(8)\n",
    "\n",
    "img_filtered = histogram_equalization.Execute(img_denoised)\n",
    "img_filtered_array = sitk.GetArrayFromImage(img_filtered)\n",
    "plt.hist(img_filtered_array.flatten())\n",
    "\n",
    "plt.figure(figsize=(15,5))\n",
    "plt.subplot(1,3,1)\n",
    "plt.imshow(sitk.GetArrayFromImage(img_filtered[:,:]), vmin=0, vmax=255)\n",
    "plt.axis('off')\n",
    "plt.title('filtered image')\n",
    "plt.subplot(1,3,2)\n",
    "plt.imshow(sitk.GetArrayFromImage(img_denoised[:,:]), vmin=0, vmax=255) \n",
    "plt.axis('off')\n",
    "plt.title('denoised image')\n",
    "plt.show()"
   ]
  },
  {
   "cell_type": "markdown",
   "metadata": {},
   "source": [
    "Part 3) Segmentation"
   ]
  },
  {
   "cell_type": "markdown",
   "metadata": {},
   "source": [
    "3) a) range of pixel intensity"
   ]
  },
  {
   "cell_type": "code",
   "execution_count": 33,
   "metadata": {},
   "outputs": [
    {
     "name": "stdout",
     "output_type": "stream",
     "text": [
      "min pixel value: 0.0\n",
      "max pixel value: 255.0\n"
     ]
    }
   ],
   "source": [
    "stats = sitk.StatisticsImageFilter()\n",
    "stats.Execute(img)\n",
    "print(\"min pixel value:\",stats.GetMinimum())\n",
    "print(\"max pixel value:\",stats.GetMaximum())"
   ]
  },
  {
   "cell_type": "markdown",
   "metadata": {},
   "source": [
    "3)b) \n",
    "F-1   : L- 12.308 P- 11.406 S- 0.000\n",
    "\n",
    "\n",
    "F_1-1 : L- 21.191 P- 11.406 S- 0.000\n",
    "\n",
    "\n",
    "F_2-1 : L- 12.447 P- 17.790 S- 0.000\n",
    "\n",
    "\n",
    "F_3   : L- 22.301 P- 17.513 S- 0.000\n",
    "     "
   ]
  },
  {
   "cell_type": "markdown",
   "metadata": {},
   "source": [
    "image.png"
   ]
  },
  {
   "cell_type": "markdown",
   "metadata": {},
   "source": [
    "c-"
   ]
  },
  {
   "cell_type": "code",
   "execution_count": 86,
   "metadata": {},
   "outputs": [],
   "source": [
    "i1= int(12.308/0.0028)\n",
    "j1= int(11.406/0.09)\n",
    "k1= int(1.000/1.000)\n",
    "\n",
    "i2= int(21.191/0.0028)\n",
    "j2= int(11.406/0.09)\n",
    "k2= int(1.000/1.000)\n",
    "\n",
    "i3= int(12.447/0.0028) \n",
    "j3= int(17.790/0.09)\n",
    "k3= int(1.000/1.000)\n",
    "\n",
    "i4= int(22.301/0.0028)  \n",
    "j4= int(17.513/0.09)\n",
    "k4= int(1.000/1.000)"
   ]
  },
  {
   "cell_type": "code",
   "execution_count": 87,
   "metadata": {},
   "outputs": [],
   "source": [
    "seed1 = (i1, j1,k1)\n",
    "seed2 = (i2, j2,k2)\n",
    "seed3 = (i3, j3,k3)\n",
    "seed4 = (i4, j4,k4)\n"
   ]
  },
  {
   "cell_type": "code",
   "execution_count": 92,
   "metadata": {},
   "outputs": [],
   "source": [
    "seed_pts = [seed1,seed2,seed3,seed4]\n",
    "seg = sitk.ConfidenceConnected(img, seedList=seed_pts,\n",
    "                                   numberOfIterations=1,\n",
    "                                   multiplier=2.5,\n",
    "                                   initialNeighborhoodRadius=1,\n",
    "                                   replaceValue=1)"
   ]
  },
  {
   "cell_type": "markdown",
   "metadata": {},
   "source": [
    "d-"
   ]
  },
  {
   "cell_type": "markdown",
   "metadata": {},
   "source": [
    "1-d"
   ]
  },
  {
   "cell_type": "code",
   "execution_count": 104,
   "metadata": {},
   "outputs": [
    {
     "data": {
      "image/png": "[encoded data removed]",
      "text/plain": [
       "<Figure size 360x360 with 1 Axes>"
      ]
     },
     "metadata": {
      "needs_background": "light"
     },
     "output_type": "display_data"
    }
   ],
   "source": [
    "#adjust seg spacing\n",
    "seg.SetSpacing((0.09, 0.0028))\n",
    "\n",
    "# overlay the mask\n",
    "img_overlay = sitk.LabelOverlay(img, seg)\n",
    "\n",
    "plt.figure(figsize=(5,5))\n",
    "plt.imshow(sitk.GetArrayFromImage(img_overlay))\n",
    "plt.axis('off')\n",
    "plt.show()"
   ]
  },
  {
   "cell_type": "markdown",
   "metadata": {},
   "source": [
    "Part 4) Deriving Prostate Information"
   ]
  },
  {
   "cell_type": "code",
   "execution_count": 105,
   "metadata": {},
   "outputs": [
    {
     "name": "stdout",
     "output_type": "stream",
     "text": [
      "area is: 1296.4331519999998 mm2\n",
      "Volume is: 25928.663039999996 mm3\n",
      "mean of the pixel intensities: 71.57778211459993\n",
      "standard deviation of the pixel intensities: 114.58166563101562\n"
     ]
    }
   ],
   "source": [
    "import math\n",
    "#a. Calculate the area of prostate cross section in mm2 \n",
    "# (use the spacing information and the number of pixels in the prostate segemnt).\n",
    "\n",
    "new_segment_spacing = img_new_segment.GetSpacing()\n",
    "new_segment_size = img_new_segment.GetSize()\n",
    "\n",
    "physical_extent_x = new_segment_spacing[0] *new_segment_size[0]\n",
    "physical_extent_y = new_segment_spacing[1] *new_segment_size[1]\n",
    "\n",
    "Area = physical_extent_x * physical_extent_y\n",
    "print(\"area is:\",Area,\"mm2\")\n",
    "\n",
    "\n",
    "#b. The shape of the prostate in the 3D space is often approximated by an ellipsoid. \n",
    "# The volume of an ellipsoid can be calculated as:\n",
    "#𝑉=43Ac  where A and c are the area of the 2D cross section and \n",
    "# the radius in third dimension respectively. \n",
    "# Calculate the volume of the prostate in CC, by assuming the third radius is\n",
    "# c = 15 mm\n",
    "\n",
    "c = 15\n",
    "Volume = (4/3)* Area * c\n",
    "print(\"Volume is:\",Volume, \"mm3\")\n",
    "\n",
    "#c. Calculate the mean and standard deviation of the pixel intensities\n",
    "# of the main image inside the prostate region.\n",
    "stats = sitk.StatisticsImageFilter()\n",
    "stats.Execute(img_new_segment)\n",
    "print(\"mean of the pixel intensities:\",stats.GetMean())\n",
    "print(\"standard deviation of the pixel intensities:\",math.sqrt(stats.GetVariance()))\n"
   ]
  }
 ],
 "metadata": {
  "kernelspec": {
   "display_name": "Python 3.10.0 64-bit",
   "language": "python",
   "name": "python3"
  },
  "language_info": {
   "codemirror_mode": {
    "name": "ipython",
    "version": 3
   },
   "file_extension": ".py",
   "mimetype": "text/x-python",
   "name": "python",
   "nbconvert_exporter": "python",
   "pygments_lexer": "ipython3",
   "version": "3.10.0"
  },
  "orig_nbformat": 4,
  "vscode": {
   "interpreter": {
    "hash": "afb734500600fd355917ca529030176ea0ca205570884b88f2f6f7d791fd3fbe"
   }
  }
 },
 "nbformat": 4,
 "nbformat_minor": 2
}
